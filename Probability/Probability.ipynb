{
 "cells": [
  {
   "cell_type": "code",
   "id": "initial_id",
   "metadata": {
    "collapsed": true,
    "ExecuteTime": {
     "end_time": "2025-06-26T23:55:13.591207Z",
     "start_time": "2025-06-26T23:55:13.460379Z"
    }
   },
   "source": "import numpy as np",
   "outputs": [],
   "execution_count": 1
  },
  {
   "metadata": {},
   "cell_type": "markdown",
   "source": [
    "## Sample Space\n",
    "\n",
    "Sample spaces are sets of, either discrete or continuous, possible outcomes\n",
    "\n",
    "#### Example\n",
    "\n",
    "Rolling a die the sample space would be the set {1, 2, 3, 4, 5, 6}\n",
    "\n",
    "One thing to know is that the sum of probabilities would always equal one.\n",
    "\n",
    "#### Example\n",
    "\n",
    "The probability for the sample space for above is 1/6 because there is no bias in the die. So if each side of the die has a 1/6 chance probability then 1/6 + 1/6 + 1/6 + 1/6 + 1/6 + 1/6 =  1"
   ],
   "id": "ce1420303c855bde"
  },
  {
   "metadata": {
    "ExecuteTime": {
     "end_time": "2025-06-26T23:55:17.178867Z",
     "start_time": "2025-06-26T23:55:13.603763Z"
    }
   },
   "cell_type": "code",
   "source": [
    "N = 1000000  # One Millions Sims\n",
    "M = 3  #  Three coins\n",
    "\n",
    "heads = np.zeros(M+1)  # creating a 1d array of zeros with len M+1 for all possible outcomes\n",
    "\n",
    "for i in range(N):\n",
    "    \n",
    "    flips = np.random.randint(0,2,M)  # a rand int either 0 or 1 for M coins\n",
    "    h, _ = np.bincount(flips, minlength=2)  \n",
    "    heads[h] += 1\n",
    "    \n",
    "prob = heads/N\n",
    "\n",
    "print(\"Probabilities: %s\" % np.array2string(prob))"
   ],
   "id": "fe0d04c82ed86655",
   "outputs": [
    {
     "name": "stdout",
     "output_type": "stream",
     "text": [
      "Probabilities: [0.12471  0.375427 0.374737 0.125126]\n"
     ]
    }
   ],
   "execution_count": 2
  },
  {
   "metadata": {},
   "cell_type": "markdown",
   "source": [
    "## Sum Rule\n",
    "\n",
    "*Mutually Exclusive* means two events A and B cannot occur at the same time.\n",
    "\n",
    "#### Example\n",
    "\n",
    "Let *A = heads* and Let *B = tales* There are two events and on one coin, once a coin is flipped it cannot be both heads or tales.\n",
    "\n",
    "*Independent* means the probability if two events happening are completely unrelated.\n",
    "\n",
    "#### Example\n",
    "\n",
    " If the probability of A is unaffected by if B has happened. \n",
    " \n",
    "The *Sum Rule* refers to the probability of more than on mutually exclusive event happening. It tells us the probability of either events happening\n",
    "\n",
    "#### Example\n",
    "\n",
    "What is the probability of rolling a four or a five on the die. We know that the probability of landing on 4 is 1/6 as well as 5 is 1/6 so adding this will give us 2/6 or 1/3. So we get the probability of either rolling a 4 or 5 to be 1/3. \n",
    "\n"
   ],
   "id": "9125cab276dfe6dc"
  }
 ],
 "metadata": {
  "kernelspec": {
   "display_name": "Python 3",
   "language": "python",
   "name": "python3"
  },
  "language_info": {
   "codemirror_mode": {
    "name": "ipython",
    "version": 2
   },
   "file_extension": ".py",
   "mimetype": "text/x-python",
   "name": "python",
   "nbconvert_exporter": "python",
   "pygments_lexer": "ipython2",
   "version": "2.7.6"
  }
 },
 "nbformat": 4,
 "nbformat_minor": 5
}
