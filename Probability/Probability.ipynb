{
 "cells": [
  {
   "cell_type": "code",
   "id": "initial_id",
   "metadata": {
    "collapsed": true,
    "ExecuteTime": {
     "end_time": "2025-06-20T20:35:00.674703Z",
     "start_time": "2025-06-20T20:35:00.589006Z"
    }
   },
   "source": "import numpy as np",
   "outputs": [],
   "execution_count": 1
  },
  {
   "metadata": {},
   "cell_type": "markdown",
   "source": [
    "## Sample Space\n",
    "\n",
    "Sample spaces are sets of, either discrete or continuous, possible outcomes\n",
    "\n",
    "#### Example\n",
    "\n",
    "Rolling a die the sample space would be the set {1, 2, 3, 4, 5, 6}\n",
    "\n",
    "One thing to know is that the sum of probabilities would always equal one.\n",
    "\n",
    "#### Example\n",
    "\n",
    "The probability for the sample space for above is 1/6 because there is no bias in the die. So if each side of the die has a 1/6 chance probability then 1/6 + 1/6 + 1/6 + 1/6 + 1/6 + 1/6 =  1"
   ],
   "id": "ce1420303c855bde"
  },
  {
   "metadata": {},
   "cell_type": "code",
   "outputs": [],
   "execution_count": null,
   "source": "",
   "id": "a472dc11f58c2f3a"
  },
  {
   "metadata": {
    "ExecuteTime": {
     "end_time": "2025-06-20T20:36:46.397923Z",
     "start_time": "2025-06-20T20:36:43.027831Z"
    }
   },
   "cell_type": "code",
   "source": [
    "N = 1000000  # One Millions Sims\n",
    "M = 3  #  Three coins\n",
    "\n",
    "heads = np.zeros(M+1)  # creating a 1d array of zeros with len M+1 for all possible outcomes\n",
    "\n",
    "for i in range(N):\n",
    "    \n",
    "    flips = np.random.randint(0,2,M)  # a rand int either 0 or 1 for M coins\n",
    "    h, _ = np.bincount(flips, minlength=2)  \n",
    "    heads[h] += 1\n",
    "    \n",
    "prob = heads/N\n",
    "\n",
    "print(\"Probabilities: %s\" % np.array2string(prob))"
   ],
   "id": "fe0d04c82ed86655",
   "outputs": [
    {
     "name": "stdout",
     "output_type": "stream",
     "text": [
      "Probabilities: [0.125641 0.374697 0.375129 0.124533]\n"
     ]
    }
   ],
   "execution_count": 3
  }
 ],
 "metadata": {
  "kernelspec": {
   "display_name": "Python 3",
   "language": "python",
   "name": "python3"
  },
  "language_info": {
   "codemirror_mode": {
    "name": "ipython",
    "version": 2
   },
   "file_extension": ".py",
   "mimetype": "text/x-python",
   "name": "python",
   "nbconvert_exporter": "python",
   "pygments_lexer": "ipython2",
   "version": "2.7.6"
  }
 },
 "nbformat": 4,
 "nbformat_minor": 5
}
